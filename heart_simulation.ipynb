{
 "cells": [
  {
   "cell_type": "markdown",
   "id": "a5f17904",
   "metadata": {},
   "source": [
    "# Heart Statistics"
   ]
  },
  {
   "cell_type": "markdown",
   "id": "44ed628e",
   "metadata": {},
   "source": [
    "##### This document demonstrates how the author of the GMB bot simulated the random and pseudo-consistency of the heart strings."
   ]
  },
  {
   "cell_type": "code",
   "execution_count": 3,
   "id": "09f11a03",
   "metadata": {},
   "outputs": [],
   "source": [
    "import numpy"
   ]
  },
  {
   "cell_type": "code",
   "execution_count": 29,
   "id": "02397bcf",
   "metadata": {},
   "outputs": [
    {
     "name": "stdout",
     "output_type": "stream",
     "text": [
      "Mean\n",
      "N: 174.6, L: 208.2\n",
      "Max\n",
      "N: 221, L: 240\n",
      "Min\n",
      "N: 118, L: 161\n",
      "Std\n",
      "N: 41.8, L: 28.3\n"
     ]
    }
   ],
   "source": [
    "N = [133, 118, 188, 213, 221]\n",
    "L = [195, 161, 240, 213, 232]\n",
    "\n",
    "mean_N = numpy.mean(N)\n",
    "mean_L = numpy.mean(L)\n",
    "\n",
    "max_N = numpy.max(N)\n",
    "max_L = numpy.max(L)\n",
    "\n",
    "min_N = numpy.min(N)\n",
    "min_L = numpy.min(L)\n",
    "\n",
    "std_N = numpy.std(N)\n",
    "std_L = numpy.std(L)\n",
    "\n",
    "print(f\"Mean\\nN: {mean_N}, L: {mean_L}\")\n",
    "print(f\"Max\\nN: {max_N}, L: {max_L}\")\n",
    "print(f\"Min\\nN: {min_N}, L: {min_L}\")\n",
    "print(f\"Std\\nN: {round(float(std_nN,1)}, L: {round(float(std_L),1)}\")"
   ]
  },
  {
   "cell_type": "markdown",
   "id": "d765a8cb",
   "metadata": {},
   "source": [
    "#### We can deduce that L sends more hearts so we'll use his statistics to form the normal distribution."
   ]
  },
  {
   "cell_type": "markdown",
   "id": "a1153e31",
   "metadata": {},
   "source": [
    "### Generating random normal dsitr."
   ]
  },
  {
   "cell_type": "markdown",
   "id": "979570eb",
   "metadata": {},
   "source": [
    "We create a Gaussian Distribution to create a mid point of 208.2 (mean_L) with max deviations from the left and right of 41.8 (std_N)"
   ]
  },
  {
   "cell_type": "code",
   "execution_count": null,
   "id": "7cd3b108",
   "metadata": {},
   "outputs": [
    {
     "ename": "",
     "evalue": "",
     "output_type": "error",
     "traceback": [
      "\u001b[1;31mRunning cells with 'Python 3.10.8 ('GMB': venv)' requires ipykernel package.\n",
      "\u001b[1;31mRun the following command to install 'ipykernel' into the Python environment. \n",
      "\u001b[1;31mCommand: '\"c:/Users/MELPRODCOMMS/Desktop/Code/The GMB Bot/GMB/Scripts/python.exe\" -m pip install ipykernel -U --force-reinstall'"
     ]
    }
   ],
   "source": [
    "x = numpy.random.normal(208.2, 41.8,1000)\n",
    "print(int(numpy.random.choice(x)))"
   ]
  }
 ],
 "metadata": {
  "kernelspec": {
   "display_name": "Python 3.10.8 ('GMB': venv)",
   "language": "python",
   "name": "python3"
  },
  "language_info": {
   "codemirror_mode": {
    "name": "ipython",
    "version": 3
   },
   "file_extension": ".py",
   "mimetype": "text/x-python",
   "name": "python",
   "nbconvert_exporter": "python",
   "pygments_lexer": "ipython3",
   "version": "3.10.8"
  },
  "vscode": {
   "interpreter": {
    "hash": "ca2ade2834e7c1a1baa42ce7ef7c7792ef09ec665f26474f9948f0d332eeaeb7"
   }
  }
 },
 "nbformat": 4,
 "nbformat_minor": 5
}
